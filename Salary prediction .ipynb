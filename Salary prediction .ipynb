{
 "cells": [
  {
   "cell_type": "code",
   "execution_count": 1,
   "id": "b3080e7d",
   "metadata": {},
   "outputs": [],
   "source": [
    "from sklearn.linear_model import SGDRegressor\n",
    "from functools import lru_cache\n",
    "from pymorphy2 import MorphAnalyzer\n",
    "import pandas as pd\n",
    "import numpy as np\n",
    "import re\n",
    "from tqdm import tqdm\n",
    "import random\n",
    "from sklearn.feature_extraction.text import TfidfVectorizer\n",
    "from scipy.sparse import hstack\n",
    "\n",
    "random.seed(42)\n",
    "np.random.seed(42)"
   ]
  },
  {
   "cell_type": "code",
   "execution_count": 2,
   "id": "e6f14a0d",
   "metadata": {},
   "outputs": [],
   "source": [
    "df_train = pd.read_csv('vacancies_train.csv.zip')\n",
    "df_test = pd.read_csv('vacancies_test.csv.zip', index_col=0)"
   ]
  },
  {
   "cell_type": "code",
   "execution_count": 3,
   "id": "ca5fc232",
   "metadata": {},
   "outputs": [],
   "source": [
    "# # Препроцессинг\n",
    "m = MorphAnalyzer()\n",
    "\n",
    "def words_only(text):\n",
    "    res = re.sub(r'[^\\/0-9а-яёa-z ]+', '', text.lower()).strip()\n",
    "    return re.sub(r' +', ' ', res).split()\n",
    "\n",
    "@lru_cache(maxsize=128)\n",
    "def lemmatize_word(token, pymorphy=m):\n",
    "    return pymorphy.parse(token)[0].normal_form\n",
    "\n",
    "def lemmatize_text(text):\n",
    "    return ' '.join([lemmatize_word(w) for w in words_only(text)])\n",
    "\n",
    "def add_lemmas_column(df):\n",
    "    df_res = df.copy()\n",
    "    with tqdm(total=df_res.shape[0]) as pbar:\n",
    "        df_res['description_lemmas'] = df_res.description.apply(\n",
    "            lambda x: (lemmatize_text(x), pbar.update(1))[0]\n",
    "        )\n",
    "    return df_res"
   ]
  },
  {
   "cell_type": "code",
   "execution_count": 4,
   "id": "e043ffe4",
   "metadata": {},
   "outputs": [
    {
     "name": "stderr",
     "output_type": "stream",
     "text": [
      "100%|████████████████████████████████████████████████████████████████████████████| 16629/16629 [04:16<00:00, 64.78it/s]\n",
      "100%|██████████████████████████████████████████████████████████████████████████████| 5543/5543 [01:23<00:00, 66.49it/s]\n"
     ]
    }
   ],
   "source": [
    "X_train = add_lemmas_column(df_train).drop('salary', axis=1)\n",
    "y_train = df_train.salary\n",
    "X_test = add_lemmas_column(df_test)"
   ]
  },
  {
   "cell_type": "code",
   "execution_count": 5,
   "id": "5991cde9",
   "metadata": {},
   "outputs": [
    {
     "data": {
      "text/html": [
       "<div>\n",
       "<style scoped>\n",
       "    .dataframe tbody tr th:only-of-type {\n",
       "        vertical-align: middle;\n",
       "    }\n",
       "\n",
       "    .dataframe tbody tr th {\n",
       "        vertical-align: top;\n",
       "    }\n",
       "\n",
       "    .dataframe thead th {\n",
       "        text-align: right;\n",
       "    }\n",
       "</style>\n",
       "<table border=\"1\" class=\"dataframe\">\n",
       "  <thead>\n",
       "    <tr style=\"text-align: right;\">\n",
       "      <th></th>\n",
       "      <th>name</th>\n",
       "      <th>experience</th>\n",
       "      <th>schedule</th>\n",
       "      <th>employment</th>\n",
       "      <th>description</th>\n",
       "      <th>key_skills</th>\n",
       "      <th>description_lemmas</th>\n",
       "    </tr>\n",
       "  </thead>\n",
       "  <tbody>\n",
       "    <tr>\n",
       "      <th>0</th>\n",
       "      <td>Водитель-экспедитор</td>\n",
       "      <td>От 3 до 6 лет</td>\n",
       "      <td>Полный день</td>\n",
       "      <td>Полная занятость</td>\n",
       "      <td>Водитель-экспедитор категории В,С (а\\м ГАЗЕЛЬ ...</td>\n",
       "      <td>[]</td>\n",
       "      <td>водительэкспедитор категория вс ама газель тен...</td>\n",
       "    </tr>\n",
       "    <tr>\n",
       "      <th>1</th>\n",
       "      <td>Кладовщик-комплектовщик/оператор 1С</td>\n",
       "      <td>От 1 года до 3 лет</td>\n",
       "      <td>Полный день</td>\n",
       "      <td>Полная занятость</td>\n",
       "      <td>Обязанности:   Списывание материалов в произво...</td>\n",
       "      <td>['знание пк', 'работа в 1С', 'Работа в команде...</td>\n",
       "      <td>обязанность списывание материал в производство...</td>\n",
       "    </tr>\n",
       "    <tr>\n",
       "      <th>2</th>\n",
       "      <td>Продавец магазина \"Магнит\" (Кировский р-он, В....</td>\n",
       "      <td>Нет опыта</td>\n",
       "      <td>Сменный график</td>\n",
       "      <td>Полная занятость</td>\n",
       "      <td>В крупнейшую Федеральную сеть магазинов \"Магни...</td>\n",
       "      <td>[]</td>\n",
       "      <td>в крупный федеральный сеть магазин магнит треб...</td>\n",
       "    </tr>\n",
       "    <tr>\n",
       "      <th>3</th>\n",
       "      <td>Администратор магазина (ТЦ Spar)</td>\n",
       "      <td>От 1 года до 3 лет</td>\n",
       "      <td>Полный день</td>\n",
       "      <td>Полная занятость</td>\n",
       "      <td>Крупная федеральная сеть магазинов мужской и ж...</td>\n",
       "      <td>[]</td>\n",
       "      <td>крупный федеральный сеть магазин мужской и жен...</td>\n",
       "    </tr>\n",
       "    <tr>\n",
       "      <th>4</th>\n",
       "      <td>Мойщик посуды (кулинария)</td>\n",
       "      <td>Нет опыта</td>\n",
       "      <td>Сменный график</td>\n",
       "      <td>Полная занятость</td>\n",
       "      <td>Обязанности:  Уборка производственных площадей...</td>\n",
       "      <td>['Пользователь ПК', 'Грамотная речь', 'Работа ...</td>\n",
       "      <td>обязанность уборка производственный площадь на...</td>\n",
       "    </tr>\n",
       "    <tr>\n",
       "      <th>...</th>\n",
       "      <td>...</td>\n",
       "      <td>...</td>\n",
       "      <td>...</td>\n",
       "      <td>...</td>\n",
       "      <td>...</td>\n",
       "      <td>...</td>\n",
       "      <td>...</td>\n",
       "    </tr>\n",
       "    <tr>\n",
       "      <th>16624</th>\n",
       "      <td>Полицейский специального полка полиции</td>\n",
       "      <td>Нет опыта</td>\n",
       "      <td>Полный день</td>\n",
       "      <td>Полная занятость</td>\n",
       "      <td>Обязанности:   обеспечение общественного поряд...</td>\n",
       "      <td>['Грамотная речь', 'Обучение и развитие', 'Упр...</td>\n",
       "      <td>обязанность обеспечение общественный порядок и...</td>\n",
       "    </tr>\n",
       "    <tr>\n",
       "      <th>16625</th>\n",
       "      <td>Врач стоматолог-ортопед (г. Новосибирск)</td>\n",
       "      <td>Нет опыта</td>\n",
       "      <td>Полный день</td>\n",
       "      <td>Полная занятость</td>\n",
       "      <td>Обязанности:  Оказывает квалифицированную меди...</td>\n",
       "      <td>['Медицинская документация']</td>\n",
       "      <td>обязанность оказывать квалифицировать медицинс...</td>\n",
       "    </tr>\n",
       "    <tr>\n",
       "      <th>16626</th>\n",
       "      <td>Фармацевт</td>\n",
       "      <td>От 1 года до 3 лет</td>\n",
       "      <td>Полный день</td>\n",
       "      <td>Полная занятость</td>\n",
       "      <td>Условия:  официальное оформление по ТК РФ; гра...</td>\n",
       "      <td>['Пользователь ПК', 'Работа в команде', 'Грамо...</td>\n",
       "      <td>условие официальный оформление по тк рф график...</td>\n",
       "    </tr>\n",
       "    <tr>\n",
       "      <th>16627</th>\n",
       "      <td>Геодезист (автодороги)</td>\n",
       "      <td>От 1 года до 3 лет</td>\n",
       "      <td>Вахтовый метод</td>\n",
       "      <td>Полная занятость</td>\n",
       "      <td>Обязанности:  своевременное и качественное вып...</td>\n",
       "      <td>[]</td>\n",
       "      <td>обязанность своевременный и качественный выпол...</td>\n",
       "    </tr>\n",
       "    <tr>\n",
       "      <th>16628</th>\n",
       "      <td>Специалист-эксперт отдела правового обеспечения</td>\n",
       "      <td>Нет опыта</td>\n",
       "      <td>Полный день</td>\n",
       "      <td>Полная занятость</td>\n",
       "      <td>Обязанности:  правовое сопровождение деятельно...</td>\n",
       "      <td>['Грамотная речь', 'Пользователь ПК', 'Умение ...</td>\n",
       "      <td>обязанность правовой сопровождение деятельност...</td>\n",
       "    </tr>\n",
       "  </tbody>\n",
       "</table>\n",
       "<p>16629 rows × 7 columns</p>\n",
       "</div>"
      ],
      "text/plain": [
       "                                                    name          experience  \\\n",
       "0                                    Водитель-экспедитор       От 3 до 6 лет   \n",
       "1                    Кладовщик-комплектовщик/оператор 1С  От 1 года до 3 лет   \n",
       "2      Продавец магазина \"Магнит\" (Кировский р-он, В....           Нет опыта   \n",
       "3                       Администратор магазина (ТЦ Spar)  От 1 года до 3 лет   \n",
       "4                              Мойщик посуды (кулинария)           Нет опыта   \n",
       "...                                                  ...                 ...   \n",
       "16624             Полицейский специального полка полиции           Нет опыта   \n",
       "16625           Врач стоматолог-ортопед (г. Новосибирск)           Нет опыта   \n",
       "16626                                          Фармацевт  От 1 года до 3 лет   \n",
       "16627                             Геодезист (автодороги)  От 1 года до 3 лет   \n",
       "16628    Специалист-эксперт отдела правового обеспечения           Нет опыта   \n",
       "\n",
       "             schedule        employment  \\\n",
       "0         Полный день  Полная занятость   \n",
       "1         Полный день  Полная занятость   \n",
       "2      Сменный график  Полная занятость   \n",
       "3         Полный день  Полная занятость   \n",
       "4      Сменный график  Полная занятость   \n",
       "...               ...               ...   \n",
       "16624     Полный день  Полная занятость   \n",
       "16625     Полный день  Полная занятость   \n",
       "16626     Полный день  Полная занятость   \n",
       "16627  Вахтовый метод  Полная занятость   \n",
       "16628     Полный день  Полная занятость   \n",
       "\n",
       "                                             description  \\\n",
       "0      Водитель-экспедитор категории В,С (а\\м ГАЗЕЛЬ ...   \n",
       "1      Обязанности:   Списывание материалов в произво...   \n",
       "2      В крупнейшую Федеральную сеть магазинов \"Магни...   \n",
       "3      Крупная федеральная сеть магазинов мужской и ж...   \n",
       "4      Обязанности:  Уборка производственных площадей...   \n",
       "...                                                  ...   \n",
       "16624  Обязанности:   обеспечение общественного поряд...   \n",
       "16625  Обязанности:  Оказывает квалифицированную меди...   \n",
       "16626  Условия:  официальное оформление по ТК РФ; гра...   \n",
       "16627  Обязанности:  своевременное и качественное вып...   \n",
       "16628  Обязанности:  правовое сопровождение деятельно...   \n",
       "\n",
       "                                              key_skills  \\\n",
       "0                                                     []   \n",
       "1      ['знание пк', 'работа в 1С', 'Работа в команде...   \n",
       "2                                                     []   \n",
       "3                                                     []   \n",
       "4      ['Пользователь ПК', 'Грамотная речь', 'Работа ...   \n",
       "...                                                  ...   \n",
       "16624  ['Грамотная речь', 'Обучение и развитие', 'Упр...   \n",
       "16625                       ['Медицинская документация']   \n",
       "16626  ['Пользователь ПК', 'Работа в команде', 'Грамо...   \n",
       "16627                                                 []   \n",
       "16628  ['Грамотная речь', 'Пользователь ПК', 'Умение ...   \n",
       "\n",
       "                                      description_lemmas  \n",
       "0      водительэкспедитор категория вс ама газель тен...  \n",
       "1      обязанность списывание материал в производство...  \n",
       "2      в крупный федеральный сеть магазин магнит треб...  \n",
       "3      крупный федеральный сеть магазин мужской и жен...  \n",
       "4      обязанность уборка производственный площадь на...  \n",
       "...                                                  ...  \n",
       "16624  обязанность обеспечение общественный порядок и...  \n",
       "16625  обязанность оказывать квалифицировать медицинс...  \n",
       "16626  условие официальный оформление по тк рф график...  \n",
       "16627  обязанность своевременный и качественный выпол...  \n",
       "16628  обязанность правовой сопровождение деятельност...  \n",
       "\n",
       "[16629 rows x 7 columns]"
      ]
     },
     "execution_count": 5,
     "metadata": {},
     "output_type": "execute_result"
    }
   ],
   "source": [
    "X_train"
   ]
  },
  {
   "cell_type": "code",
   "execution_count": 6,
   "id": "550dd1bc",
   "metadata": {},
   "outputs": [],
   "source": [
    "# # Каждый из значащих столбцов данных векторизуем TF-IDF\n",
    "tfidf_words = TfidfVectorizer(analyzer='word', ngram_range=(1, 2), \n",
    "                              lowercase=True, sublinear_tf=True)\n",
    "tfidf_chars = TfidfVectorizer(analyzer='char', ngram_range=(1, 5), \n",
    "                              lowercase=True, sublinear_tf=True)\n",
    "tfidf_names = TfidfVectorizer(analyzer='char', ngram_range=(1, 5), \n",
    "                              lowercase=True, sublinear_tf=True)"
   ]
  },
  {
   "cell_type": "code",
   "execution_count": null,
   "id": "9751471a",
   "metadata": {},
   "outputs": [],
   "source": []
  },
  {
   "cell_type": "code",
   "execution_count": 7,
   "id": "c1ccfcb8",
   "metadata": {},
   "outputs": [
    {
     "name": "stdout",
     "output_type": "stream",
     "text": [
      "Wall time: 1min 8s\n"
     ]
    }
   ],
   "source": [
    "%%time\n",
    "a = tfidf_words.fit_transform(X_train.description_lemmas)\n",
    "b = tfidf_chars.fit_transform(X_train.description)\n",
    "c = tfidf_names.fit_transform(X_train.name)\n",
    "X_train_s = hstack([a, b, c])"
   ]
  },
  {
   "cell_type": "code",
   "execution_count": 13,
   "id": "fe7e6c22",
   "metadata": {},
   "outputs": [
    {
     "data": {
      "text/plain": [
       "<16629x1536994 sparse matrix of type '<class 'numpy.float64'>'\n",
       "\twith 51235447 stored elements in Compressed Sparse Row format>"
      ]
     },
     "execution_count": 13,
     "metadata": {},
     "output_type": "execute_result"
    }
   ],
   "source": [
    "X_train_s"
   ]
  },
  {
   "cell_type": "code",
   "execution_count": 11,
   "id": "453b180d",
   "metadata": {},
   "outputs": [
    {
     "name": "stdout",
     "output_type": "stream",
     "text": [
      "Wall time: 6min 53s\n"
     ]
    },
    {
     "name": "stderr",
     "output_type": "stream",
     "text": [
      "C:\\Users\\dimam\\anaconda3\\lib\\site-packages\\sklearn\\linear_model\\_stochastic_gradient.py:1503: ConvergenceWarning: Maximum number of iteration reached before convergence. Consider increasing max_iter to improve the fit.\n",
      "  warnings.warn(\n"
     ]
    },
    {
     "data": {
      "text/plain": [
       "SGDRegressor(max_iter=2000)"
      ]
     },
     "execution_count": 11,
     "metadata": {},
     "output_type": "execute_result"
    }
   ],
   "source": [
    "# # Обучаем стохастическим градиентом\n",
    "%%time\n",
    "reg = SGDRegressor(max_iter=2000)\n",
    "reg.fit(X_train_s, y_train)"
   ]
  },
  {
   "cell_type": "code",
   "execution_count": 24,
   "id": "daa8c494",
   "metadata": {},
   "outputs": [],
   "source": [
    "def pred_to_csv(pred, name):\n",
    "    a = pd.Series(pred, name=\"salary\")\n",
    "    a.index.name = \"id\"\n",
    "    a.to_csv(f\"C:/Users/dimam/{name}.csv\")"
   ]
  },
  {
   "cell_type": "code",
   "execution_count": 12,
   "id": "a0a623c5",
   "metadata": {},
   "outputs": [
    {
     "name": "stdout",
     "output_type": "stream",
     "text": [
      "Wall time: 19.9 s\n"
     ]
    }
   ],
   "source": [
    "%%time\n",
    "a2 = tfidf_words.transform(X_test.description_lemmas)\n",
    "b2 = tfidf_chars.transform(X_test.description)\n",
    "c2 = tfidf_names.transform(X_test.name)\n",
    "X_test_s = hstack([a2, b2, c2])"
   ]
  },
  {
   "cell_type": "code",
   "execution_count": 26,
   "id": "8e2fd4db",
   "metadata": {},
   "outputs": [],
   "source": [
    "# # Переносим предсказанную ЗП в файл с ответом\n",
    "pred = reg.predict(X_test_s)\n",
    "pred_to_csv(pred, \"res\")"
   ]
  },
  {
   "cell_type": "code",
   "execution_count": null,
   "id": "a292f9ae",
   "metadata": {},
   "outputs": [],
   "source": [
    "# # Финальный скор - около 0.45 (Максимальный скор в соревновании - 0.55)"
   ]
  }
 ],
 "metadata": {
  "kernelspec": {
   "display_name": "Python 3 (ipykernel)",
   "language": "python",
   "name": "python3"
  },
  "language_info": {
   "codemirror_mode": {
    "name": "ipython",
    "version": 3
   },
   "file_extension": ".py",
   "mimetype": "text/x-python",
   "name": "python",
   "nbconvert_exporter": "python",
   "pygments_lexer": "ipython3",
   "version": "3.9.13"
  }
 },
 "nbformat": 4,
 "nbformat_minor": 5
}
